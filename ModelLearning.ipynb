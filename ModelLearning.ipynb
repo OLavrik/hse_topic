{
 "cells": [
  {
   "cell_type": "code",
   "execution_count": 2,
   "id": "d5c8b0db",
   "metadata": {},
   "outputs": [],
   "source": [
    "from process.dataset import prepare_dataset"
   ]
  },
  {
   "cell_type": "code",
   "execution_count": 3,
   "id": "4a54e732",
   "metadata": {},
   "outputs": [],
   "source": [
    "path_data=\"./pycharm_issues.json\""
   ]
  },
  {
   "cell_type": "markdown",
   "id": "ec8b3b8c",
   "metadata": {},
   "source": [
    "## Prepare train data"
   ]
  },
  {
   "cell_type": "code",
   "execution_count": null,
   "id": "192c9bbe",
   "metadata": {},
   "outputs": [
    {
     "data": {
      "application/vnd.jupyter.widget-view+json": {
       "model_id": "a4b2fb70d9e04f79a93356e83c20c8f0",
       "version_major": 2,
       "version_minor": 0
      },
      "text/plain": [
       "Batches:   0%|          | 0/111 [00:00<?, ?it/s]"
      ]
     },
     "metadata": {},
     "output_type": "display_data"
    },
    {
     "name": "stderr",
     "output_type": "stream",
     "text": [
      "/Users/Olga.Lavrichenko/opt/anaconda3/lib/python3.7/site-packages/transformers/tokenization_utils_base.py:2227: UserWarning: `max_length` is ignored when `padding`=`True`.\n",
      "  warnings.warn(\"`max_length` is ignored when `padding`=`True`.\")\n"
     ]
    }
   ],
   "source": [
    "train_data, clear_data, topic_model =prepare_dataset(path_data)"
   ]
  },
  {
   "cell_type": "markdown",
   "id": "aa763553",
   "metadata": {},
   "source": [
    "## Learn model"
   ]
  },
  {
   "cell_type": "code",
   "execution_count": null,
   "id": "d914e2af",
   "metadata": {},
   "outputs": [],
   "source": [
    "from tp.model_class import ModelCTM"
   ]
  },
  {
   "cell_type": "code",
   "execution_count": null,
   "id": "dce6a14e",
   "metadata": {},
   "outputs": [],
   "source": [
    "model_tp=ModelCTM(topic_model, 768, 10, 5)"
   ]
  },
  {
   "cell_type": "code",
   "execution_count": null,
   "id": "fc365f5e",
   "metadata": {},
   "outputs": [
    {
     "name": "stderr",
     "output_type": "stream",
     "text": [
      "Epoch: [1/70]\t Seen Samples: [22014/1540980]\tTrain Loss: 67.89619912284157\tTime: 0:00:08.311317: : 1it [00:08,  8.31s/it]"
     ]
    }
   ],
   "source": [
    "model_tp.fit(train_data)"
   ]
  },
  {
   "cell_type": "code",
   "execution_count": null,
   "id": "a577b397",
   "metadata": {},
   "outputs": [],
   "source": []
  }
 ],
 "metadata": {
  "kernelspec": {
   "display_name": "Python 3",
   "language": "python",
   "name": "python3"
  },
  "language_info": {
   "codemirror_mode": {
    "name": "ipython",
    "version": 3
   },
   "file_extension": ".py",
   "mimetype": "text/x-python",
   "name": "python",
   "nbconvert_exporter": "python",
   "pygments_lexer": "ipython3",
   "version": "3.7.6"
  }
 },
 "nbformat": 4,
 "nbformat_minor": 5
}
